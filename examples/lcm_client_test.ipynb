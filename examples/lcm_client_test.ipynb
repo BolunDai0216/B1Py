{
 "cells": [
  {
   "cell_type": "code",
   "execution_count": null,
   "metadata": {},
   "outputs": [],
   "source": [
    "from B1Py.lcm_types.unitree_lowlevel import UnitreeLowCommand, UnitreeLowState\n",
    "from B1Py.lcm_bridges import LCMBridgeClient\n",
    "import time\n",
    "import numpy as np"
   ]
  },
  {
   "cell_type": "code",
   "execution_count": null,
   "metadata": {},
   "outputs": [],
   "source": [
    "lcm_bridge = LCMBridgeClient(robot_name='b1')"
   ]
  },
  {
   "cell_type": "code",
   "execution_count": null,
   "metadata": {},
   "outputs": [],
   "source": [
    "while True:\n",
    "    state = lcm_bridge.getStates(timeout=0.1)\n",
    "    cmd  = UnitreeLowCommand()\n",
    "    cmd.kd = 12*[2.5]\n",
    "    cmd.kp = 12*[100]\n",
    "    cmd.q_des =  [0.2, 0.8, -1.5,\n",
    "                   0.2, 1.0, -1.6, \n",
    "                  -0.2, 0.8, -1.5, \n",
    "                  -0.2, 1.0, -1.6]\n",
    "    lcm_bridge.sendCommands(cmd)\n",
    "    "
   ]
  },
  {
   "cell_type": "code",
   "execution_count": null,
   "metadata": {},
   "outputs": [],
   "source": [
    "state  = UnitreeLowState()\n",
    "lcm_bridge.sendStates(state)"
   ]
  },
  {
   "cell_type": "code",
   "execution_count": null,
   "metadata": {},
   "outputs": [],
   "source": [
    "import pypose as pp\n",
    "q = pp.SO3([0, 0, 0, 1]).matrix()"
   ]
  },
  {
   "cell_type": "code",
   "execution_count": null,
   "metadata": {},
   "outputs": [],
   "source": [
    "q.matrix()"
   ]
  },
  {
   "cell_type": "code",
   "execution_count": null,
   "metadata": {},
   "outputs": [],
   "source": [
    "import pybullet as p"
   ]
  },
  {
   "cell_type": "code",
   "execution_count": null,
   "metadata": {},
   "outputs": [],
   "source": [
    "client = p.connect(p.GUI)\n",
    "p.configureDebugVisualizer(p.COV_ENABLE_GUI, 0)       \n",
    "p.setGravity(0, 0, -9.81)\n",
    "p.setTimeStep(1/200)"
   ]
  },
  {
   "cell_type": "code",
   "execution_count": null,
   "metadata": {},
   "outputs": [],
   "source": [
    "import pybullet_data\n",
    "p.setAdditionalSearchPath(pybullet_data.getDataPath())\n",
    "planeID = p.loadURDF(\"plane.urdf\")"
   ]
  },
  {
   "cell_type": "code",
   "execution_count": null,
   "metadata": {},
   "outputs": [],
   "source": [
    "import B1Py"
   ]
  },
  {
   "cell_type": "code",
   "execution_count": null,
   "metadata": {},
   "outputs": [],
   "source": [
    "p.setAdditionalSearchPath('/home/vr-station/projects/locomotion/B1Py/B1Py/assets/urdf')"
   ]
  },
  {
   "cell_type": "code",
   "execution_count": null,
   "metadata": {},
   "outputs": [],
   "source": [
    "robot = p.loadURDF(\"b1.urdf\", useFixedBase=False, flags=p.URDF_USE_INERTIA_FROM_FILE)"
   ]
  },
  {
   "cell_type": "code",
   "execution_count": null,
   "metadata": {},
   "outputs": [],
   "source": [
    "p.getNumJoints(robot)"
   ]
  },
  {
   "cell_type": "code",
   "execution_count": null,
   "metadata": {},
   "outputs": [],
   "source": [
    "for i in range(p.getNumJoints(robot)):\n",
    "    joint_info = p.getJointInfo(robot, i)  # get info of each joint\n",
    "    if joint_info[2] != p.JOINT_FIXED:\n",
    "        print(joint_info[1],i)\n",
    "        # obs_low_q.append(_joint_infos[8])\n",
    "        # obs_high_q.append(_joint_infos[9])\n",
    "        # obs_low_dq.append(-_joint_infos[11])\n",
    "        # obs_high_dq.append(_joint_infos[11])\n",
    "        # _act_low.append(-_joint_infos[10])\n",
    "        # _act_high.append(_joint_infos[10])"
   ]
  },
  {
   "cell_type": "code",
   "execution_count": null,
   "metadata": {},
   "outputs": [],
   "source": [
    "p.resetJointState(robot, 0, np.array, 0.0)"
   ]
  },
  {
   "cell_type": "code",
   "execution_count": null,
   "metadata": {},
   "outputs": [],
   "source": [
    "p.getBasePositionAndOrientation(robot)"
   ]
  },
  {
   "cell_type": "code",
   "execution_count": null,
   "metadata": {},
   "outputs": [],
   "source": [
    "p.resetBasePositionAndOrientation(robot, (0.0, 0.0, 0.8), (0.0, 0.0, 0.0, 1.0))"
   ]
  },
  {
   "cell_type": "code",
   "execution_count": null,
   "metadata": {},
   "outputs": [],
   "source": [
    "p.JOINT_FIXED"
   ]
  },
  {
   "cell_type": "code",
   "execution_count": null,
   "metadata": {},
   "outputs": [],
   "source": []
  }
 ],
 "metadata": {
  "kernelspec": {
   "display_name": "walk_these_ways",
   "language": "python",
   "name": "python3"
  },
  "language_info": {
   "codemirror_mode": {
    "name": "ipython",
    "version": 3
   },
   "file_extension": ".py",
   "mimetype": "text/x-python",
   "name": "python",
   "nbconvert_exporter": "python",
   "pygments_lexer": "ipython3",
   "version": "3.8.18"
  }
 },
 "nbformat": 4,
 "nbformat_minor": 2
}
