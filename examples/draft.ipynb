{
 "cells": [
  {
   "cell_type": "code",
   "execution_count": 9,
   "metadata": {},
   "outputs": [],
   "source": [
    "import lcm\n",
    "from B1Py.lcm_types.unitree_lowlevel import UnitreeLowCommand, UnitreeLowState\n",
    "import threading\n",
    "from time import sleep\n",
    "import time\n",
    "import select\n",
    "import numpy as np"
   ]
  },
  {
   "cell_type": "code",
   "execution_count": 24,
   "metadata": {},
   "outputs": [],
   "source": [
    "class B1ISimBridgeServer:\n",
    "\n",
    "    def __init__(\n",
    "        self,\n",
    "        robot_name=\"robot1\",\n",
    "    ):\n",
    "        \n",
    "        self.state = None\n",
    "        self.trigger_timestamp = 0\n",
    "        self.robot_name = robot_name\n",
    "        self.state_topic_name = f\"{robot_name}_low_state\"\n",
    "        self.command_topic_name = f\"{robot_name}_low_command\"\n",
    "        self.commands = UnitreeLowCommand()\n",
    "        # Threading Interface for handleing LCM\n",
    "        self.lc = lcm.LCM(\"udpm://239.255.76.67:7667?ttl=1\")\n",
    "        self.subscription = self.lc.subscribe(self.command_topic_name, self.command_callback)\n",
    "        self.subscription.set_queue_capacity(1)\n",
    "\n",
    "    def getCommands(self, timeout=0.1):\n",
    "        \"\"\"\n",
    "        Function that runs on a separate thread and handles LCM communication.\n",
    "        `lc.handle()` function is called when there are data available to be processed.\n",
    "        \"\"\"\n",
    "        rfds, wfds, efds = select.select([self.lc.fileno()], [], [], timeout)\n",
    "        if rfds:  # Handle only if there are data in the interface file\n",
    "            self.lc.handle()\n",
    "            return self.commands\n",
    "        else:\n",
    "            return None\n",
    "    \n",
    "    def sendStates(self, state):\n",
    "        \"\"\"\n",
    "        Send a joint command to the robot.\n",
    "\n",
    "        @param cmd: (numpy.ndarray, shape=(n,)) The joint command to send\n",
    "        \"\"\"\n",
    "        # self.command_msg.timestamp = int(self.trigger_timestamp * 1000000)\n",
    "        # self.command_msg.cmd = cmd.tolist()\n",
    "        self.lc.publish(self.state_topic_name, state.encode())\n",
    "\n",
    "    def command_callback(self, channel, data):\n",
    "        \"\"\"\n",
    "        Callback function that executes whenever a new robot state\n",
    "        is received from the C++ driver.\n",
    "\n",
    "        @param channel: (str) The name of the LCM channel\n",
    "        @param data: (bytes) The LCM message data\n",
    "        \"\"\"\n",
    "        self.commands = UnitreeLowCommand.decode(data)\n",
    "\n",
    "    def close(self):\n",
    "        \"\"\"\n",
    "        Stop the LCM thread, unsubscribe from the LCM topic,\n",
    "        and effectively shut down the interface.\n",
    "        \"\"\"\n",
    "        self.running = False\n",
    "        self.lc.unsubscribe(self.subscription)\n",
    "        del self.lc\n",
    "        print(\"Interface Closed.\")"
   ]
  },
  {
   "cell_type": "code",
   "execution_count": 26,
   "metadata": {},
   "outputs": [],
   "source": [
    "lcm_bridge = B1ISimBridgeServer()"
   ]
  },
  {
   "cell_type": "code",
   "execution_count": 27,
   "metadata": {},
   "outputs": [],
   "source": [
    "lcm_bridge.getCommands(timeout=2)"
   ]
  },
  {
   "cell_type": "code",
   "execution_count": 29,
   "metadata": {},
   "outputs": [],
   "source": [
    "state  = UnitreeLowState()\n",
    "lcm_bridge.sendStates(state)"
   ]
  },
  {
   "cell_type": "code",
   "execution_count": null,
   "metadata": {},
   "outputs": [],
   "source": []
  }
 ],
 "metadata": {
  "kernelspec": {
   "display_name": "walk_these_ways",
   "language": "python",
   "name": "python3"
  },
  "language_info": {
   "codemirror_mode": {
    "name": "ipython",
    "version": 3
   },
   "file_extension": ".py",
   "mimetype": "text/x-python",
   "name": "python",
   "nbconvert_exporter": "python",
   "pygments_lexer": "ipython3",
   "version": "3.8.18"
  }
 },
 "nbformat": 4,
 "nbformat_minor": 2
}
