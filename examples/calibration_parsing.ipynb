{
 "cells": [
  {
   "cell_type": "code",
   "execution_count": 1,
   "metadata": {},
   "outputs": [],
   "source": [
    "from B1Py.calibration import KalibrExtractExtrinsics\n",
    "import numpy as np"
   ]
  },
  {
   "cell_type": "code",
   "execution_count": 2,
   "metadata": {},
   "outputs": [],
   "source": [
    "import rclpy\n",
    "rclpy.init()"
   ]
  },
  {
   "cell_type": "code",
   "execution_count": 3,
   "metadata": {},
   "outputs": [
    {
     "data": {
      "text/plain": [
       "dict_keys(['cam0', 'cam0_T_imu', 'cam1', 'cam1_T_imu', 'cam1_T_cam0', 'cam2', 'cam2_T_imu', 'cam2_T_cam1'])"
      ]
     },
     "execution_count": 3,
     "metadata": {},
     "output_type": "execute_result"
    }
   ],
   "source": [
    "ext = KalibrExtractExtrinsics('/home/rstaion/Downloads/rs455i_142422250881_kalibr-camchain.yaml')\n",
    "ext.keys()"
   ]
  },
  {
   "cell_type": "code",
   "execution_count": 4,
   "metadata": {},
   "outputs": [],
   "source": [
    "oir1_T_ocolor = np.linalg.inv(ext['cam1_T_cam0'])@np.linalg.inv(ext['cam2_T_cam1'])\n",
    "oir1_T_oir2 = np.linalg.inv(ext['cam1_T_cam0'])\n",
    "oir1_T_imu = np.linalg.inv(ext['cam0_T_imu'])"
   ]
  },
  {
   "cell_type": "code",
   "execution_count": 5,
   "metadata": {},
   "outputs": [],
   "source": [
    "from B1Py.calibration import ExtrinsicCalibrationManager\n",
    "manager = ExtrinsicCalibrationManager()"
   ]
  },
  {
   "cell_type": "code",
   "execution_count": 6,
   "metadata": {},
   "outputs": [],
   "source": [
    "for key, val in ext.items():\n",
    "    if '_T_' in key:\n",
    "        parent = key.split('_T_')[0]\n",
    "        child = key.split('_T_')[-1]\n",
    "        rot = val[:3, :3]\n",
    "        trans = val[:3, 3]\n",
    "        manager.add(parent, child, rot, trans)"
   ]
  },
  {
   "cell_type": "code",
   "execution_count": 7,
   "metadata": {},
   "outputs": [],
   "source": [
    "oir1_T_ocolor = manager.get('cam0', 'cam2')\n",
    "oir1_T_oir2 = manager.get('cam0', 'cam1')\n",
    "oir1_T_imu = manager.get('cam0', 'imu')"
   ]
  },
  {
   "cell_type": "code",
   "execution_count": 8,
   "metadata": {},
   "outputs": [
    {
     "name": "stdout",
     "output_type": "stream",
     "text": [
      "pygame 2.5.2 (SDL 2.28.2, Python 3.8.18)\n",
      "Hello from the pygame community. https://www.pygame.org/contribute.html\n"
     ]
    }
   ],
   "source": [
    "from rclpy.node import Node\n",
    "import tf2_ros\n",
    "from geometry_msgs.msg import TransformStamped\n",
    "from scipy.spatial.transform import Rotation as R\n",
    "import numpy as np  \n",
    "from B1Py.robot.interface.ros2 import ROS2ExecutorManager\n",
    "class RealsenseExtrinsicsBroadcaster(Node):\n",
    "\n",
    "    def __init__(self, camera_name,  oir1_T_oir2, oir1_T_ocolor, oir1_T_imu=None):\n",
    "        super().__init__(f'{camera_name}_tf2_broadcaster')\n",
    "\n",
    "        self.body_frame_name = f'{camera_name}_link'\n",
    "        self.ir1_frame_name = f'{camera_name}_ir1_frame'\n",
    "        self.ir2_frame_name = f'{camera_name}_ir2_frame'\n",
    "        self.color_frame_name = f'{camera_name}_color_frame'\n",
    "        if oir1_T_imu is not None:\n",
    "            self.imu_frame_name = f'{camera_name}_imu_frame'\n",
    "        self.ir1_optical_frame_name = f'{camera_name}_ir1_optical_frame'\n",
    "        self.ir2_optical_frame_name = f'{camera_name}_ir2_optical_frame'\n",
    "        self.color_optical_frame_name = f'{camera_name}_color_optical_frame'\n",
    "\n",
    "        self.oir1_T_imu = oir1_T_imu\n",
    "        self.oir1_T_oir2 = oir1_T_oir2\n",
    "        self.oir1_T_ocolor = oir1_T_ocolor\n",
    "\n",
    "        self.ros_T_optic = np.array([[0, 0, 1, 0],\n",
    "                                [-1,0, 0, 0],\n",
    "                                [0, -1, 0, 0],\n",
    "                                [0, 0, 0, 1]]).astype(np.float64)\n",
    "\n",
    "        # self.broadcaster = tf2_ros.TransformBroadcaster(self)\n",
    "        self.broadcaster = tf2_ros.StaticTransformBroadcaster(self)\n",
    "        self.timer = self.create_timer(1, self.timer_callback)\n",
    "\n",
    "    def timer_callback(self):\n",
    "        body_T_ir1 = np.eye(4)\n",
    "        body_T_ir2 = self.ros_T_optic @ self.oir1_T_oir2 @ np.linalg.inv(self.ros_T_optic)\n",
    "        body_T_imu = self.ros_T_optic @ self.oir1_T_imu\n",
    "\n",
    "        tf1 = self.makeTransformStamped(self.body_frame_name, self.ir1_frame_name, body_T_ir1)\n",
    "        tf2 = self.makeTransformStamped(self.body_frame_name, self.ir2_frame_name, body_T_ir2)\n",
    "        if self.oir1_T_imu is not None:\n",
    "            tf3 = self.makeTransformStamped(self.body_frame_name, self.imu_frame_name, body_T_imu)\n",
    "        tf4 = self.makeTransformStamped(self.ir1_frame_name, self.ir1_optical_frame_name, self.ros_T_optic)\n",
    "        tf5 = self.makeTransformStamped(self.ir2_frame_name, self.ir2_optical_frame_name, self.ros_T_optic)\n",
    "        self.broadcaster = tf2_ros.StaticTransformBroadcaster(self)\n",
    "        self.broadcaster.sendTransform(tf1)\n",
    "        self.broadcaster.sendTransform(tf2)\n",
    "        if self.oir1_T_imu is not None:\n",
    "            self.broadcaster.sendTransform(tf3)\n",
    "        self.broadcaster.sendTransform(tf4)\n",
    "        self.broadcaster.sendTransform(tf5)\n",
    "        \n",
    "\n",
    "    def makeTransformStamped(self, parent_frame, child_frame, T):\n",
    "        rotation = R.from_matrix(T[:3, :3]).as_quat()\n",
    "        translation = T[:3, 3]\n",
    "        static_transform_stamped = TransformStamped()\n",
    "        static_transform_stamped.header.stamp = self.get_clock().now().to_msg()\n",
    "        static_transform_stamped.header.frame_id = parent_frame\n",
    "        static_transform_stamped.child_frame_id = child_frame\n",
    "        static_transform_stamped.transform.translation.x = translation[0]\n",
    "        static_transform_stamped.transform.translation.y = translation[1]\n",
    "        static_transform_stamped.transform.translation.z = translation[2]\n",
    "        static_transform_stamped.transform.rotation.x = rotation[0]\n",
    "        static_transform_stamped.transform.rotation.y = rotation[1]\n",
    "        static_transform_stamped.transform.rotation.z = rotation[2]\n",
    "        static_transform_stamped.transform.rotation.w = rotation[3]\n",
    "        return static_transform_stamped"
   ]
  },
  {
   "cell_type": "code",
   "execution_count": 9,
   "metadata": {},
   "outputs": [],
   "source": [
    "class B1ExtrinsicsBroadcaster(Node):\n",
    "\n",
    "    def __init__(self, robot_name='b1'):\n",
    "        super().__init__(f'{robot_name}_tf2_broadcaster')\n",
    "\n",
    "        self.frames = []\n",
    "        # self.broadcaster = tf2_ros.TransformBroadcaster(self)\n",
    "        self.broadcaster = tf2_ros.StaticTransformBroadcaster(self)\n",
    "        self.timer = self.create_timer(0.5, self.timer_callback)\n",
    "        self.body_frame_name = f'{robot_name}_base_link'\n",
    "\n",
    "    def timer_callback(self):\n",
    "        for frame in self.frames:\n",
    "            self.broadcaster.sendTransform(frame)\n",
    "\n",
    "    def registerFrame(self, sensor_name, body_T_sensor):\n",
    "        frame = self.makeTransformStamped(self.body_frame_name, sensor_name, body_T_sensor)\n",
    "        self.frames.append(frame)\n",
    "\n",
    "    def makeTransformStamped(self, parent_frame, child_frame, T):\n",
    "        rotation = R.from_matrix(T[:3, :3]).as_quat()\n",
    "        translation = T[:3, 3]\n",
    "        static_transform_stamped = TransformStamped()\n",
    "        static_transform_stamped.header.stamp = self.get_clock().now().to_msg()\n",
    "        static_transform_stamped.header.frame_id = parent_frame\n",
    "        static_transform_stamped.child_frame_id = child_frame\n",
    "        static_transform_stamped.transform.translation.x = translation[0]\n",
    "        static_transform_stamped.transform.translation.y = translation[1]\n",
    "        static_transform_stamped.transform.translation.z = translation[2]\n",
    "        static_transform_stamped.transform.rotation.x = rotation[0]\n",
    "        static_transform_stamped.transform.rotation.y = rotation[1]\n",
    "        static_transform_stamped.transform.rotation.z = rotation[2]\n",
    "        static_transform_stamped.transform.rotation.w = rotation[3]\n",
    "        return static_transform_stamped"
   ]
  },
  {
   "cell_type": "code",
   "execution_count": 10,
   "metadata": {},
   "outputs": [],
   "source": [
    "rs1_broadcaster = RealsenseExtrinsicsBroadcaster('realsense', oir1_T_oir2, oir1_T_ocolor, oir1_T_imu)\n",
    "rs2_broadcaster = RealsenseExtrinsicsBroadcaster('realsense2', oir1_T_oir2, oir1_T_ocolor, oir1_T_imu)\n",
    "\n",
    "b1_broadcaster = B1ExtrinsicsBroadcaster()\n",
    "\n",
    "T1 = np.eye(4)\n",
    "T1[0,-1] = 2.\n",
    "T2 = np.eye(4)\n",
    "T2[0,-1] = -2.\n",
    "b1_broadcaster.registerFrame(rs1_broadcaster.body_frame_name, T1)\n",
    "b1_broadcaster.registerFrame(rs2_broadcaster.body_frame_name, T2)"
   ]
  },
  {
   "cell_type": "code",
   "execution_count": 11,
   "metadata": {},
   "outputs": [],
   "source": [
    "excution_manager = ROS2ExecutorManager()    \n",
    "excution_manager.add_node(rs1_broadcaster)\n",
    "excution_manager.add_node(rs2_broadcaster)\n",
    "excution_manager.add_node(b1_broadcaster)\n",
    "excution_manager.start()"
   ]
  }
 ],
 "metadata": {
  "kernelspec": {
   "display_name": "Python 3",
   "language": "python",
   "name": "python3"
  },
  "language_info": {
   "codemirror_mode": {
    "name": "ipython",
    "version": 3
   },
   "file_extension": ".py",
   "mimetype": "text/x-python",
   "name": "python",
   "nbconvert_exporter": "python",
   "pygments_lexer": "ipython3",
   "version": "3.8.18"
  }
 },
 "nbformat": 4,
 "nbformat_minor": 2
}
