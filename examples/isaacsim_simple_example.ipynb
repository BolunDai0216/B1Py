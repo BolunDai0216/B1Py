{
 "cells": [
  {
   "cell_type": "code",
   "execution_count": null,
   "metadata": {},
   "outputs": [],
   "source": [
    "from B1Py.lcm_types.unitree_lowlevel import UnitreeLowCommand, UnitreeLowState\n",
    "from B1Py.lcm_bridges import LCMBridgeClient\n",
    "from B1Py.utils import NumpyMemMapDataPipe\n",
    "import numpy as np"
   ]
  },
  {
   "cell_type": "code",
   "execution_count": null,
   "metadata": {},
   "outputs": [],
   "source": [
    "lcm_bridge = LCMBridgeClient(robot_name='b1')"
   ]
  },
  {
   "cell_type": "code",
   "execution_count": null,
   "metadata": {},
   "outputs": [],
   "source": [
    "lidar_data_pipe = NumpyMemMapDataPipe(\n",
    "    \"lidar_data_pipe\", force=False, dtype=\"float32\", shape=(900, 16, 3)\n",
    ")\n",
    "left_rgb_data_pipe = NumpyMemMapDataPipe(\n",
    "    \"left_rgb_data_pipe\", force=False, dtype=\"uint8\", shape=(480, 640, 4)\n",
    ")\n",
    "right_rgb_data_pipe = NumpyMemMapDataPipe(\n",
    "    \"right_rgb_data_pipe\", force=False, dtype=\"uint8\", shape=(480, 640, 4)\n",
    ")\n",
    "depth_data_pipe = NumpyMemMapDataPipe(\n",
    "    \"depth_data_pipe\", force=False, dtype=\"float32\", shape=(480, 640)\n",
    ")"
   ]
  },
  {
   "cell_type": "code",
   "execution_count": null,
   "metadata": {},
   "outputs": [],
   "source": [
    "import cv2\n",
    "while True:\n",
    "    state = lcm_bridge.getStates(timeout=0.1)\n",
    "    cmd  = UnitreeLowCommand()\n",
    "    cmd.kd = 12*[2.5]\n",
    "    cmd.kp = 12*[100]\n",
    "    cmd.q_des =  [0.2, 0.8, -1.5,\n",
    "                   0.2, 1.0, -1.6, \n",
    "                  -0.2, 0.8, -1.5, \n",
    "                  -0.2, 1.0, -1.6]\n",
    "    # lcm_bridge.sendCommands(cmd)\n",
    "    left_img =  left_rgb_data_pipe.read()\n",
    "    right_img = right_rgb_data_pipe.read()\n",
    "    depth_map = depth_data_pipe.read()\n",
    "    cv2.imshow('left', left_img)\n",
    "    cv2.imshow('right', right_img)\n",
    "    cv2.waitKey(1)\n",
    "    left_rgb_data_pipe.read()"
   ]
  },
  {
   "cell_type": "code",
   "execution_count": null,
   "metadata": {},
   "outputs": [],
   "source": [
    "cv2.destroyAllWindows()"
   ]
  }
 ],
 "metadata": {
  "kernelspec": {
   "display_name": "walk_these_ways",
   "language": "python",
   "name": "python3"
  },
  "language_info": {
   "codemirror_mode": {
    "name": "ipython",
    "version": 3
   },
   "file_extension": ".py",
   "mimetype": "text/x-python",
   "name": "python",
   "nbconvert_exporter": "python",
   "pygments_lexer": "ipython3",
   "version": "3.8.18"
  }
 },
 "nbformat": 4,
 "nbformat_minor": 2
}
