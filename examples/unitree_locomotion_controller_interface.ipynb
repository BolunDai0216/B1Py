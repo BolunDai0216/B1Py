{
 "cells": [
  {
   "cell_type": "markdown",
   "metadata": {},
   "source": [
    "# Unitree Locomotion controller Interface\n",
    "This notebook explains the procedure of communicating with the Unitree's factory installed locomotion controller. This input commands to this controller is the body velocity ($x, y, \\Psi$) alongside parameters such as body and swing foot height offsets.\n",
    "\n",
    "The structure of the system is shown in the following image:\n",
    "<center><img src=\"images/highlevel_interface.png\" width=\"550\"/></center>"
   ]
  },
  {
   "cell_type": "markdown",
   "metadata": {},
   "source": [
    "## Starting the Robot\n",
    "First put the robot in resting position and turn it on by pressing the power key on the battery twice while holding the second press for 4 seconds:\n",
    "\n",
    "Add image ...\n",
    "\n",
    "The robot will stand on after a while. When it is standing, turn the remote controller on by pressing its power key twice while holding the second press for 4 seconds:\n",
    "\n",
    "Add image ...\n",
    "\n",
    "Then, to command the robot, you need to put it in the idle mode. To this by simultaneously `L2+Start`. The robot can now walk through joystick commands.\n"
   ]
  },
  {
   "cell_type": "markdown",
   "metadata": {},
   "source": [
    "## Instantiate a High-Level Interface to The Robot  \n",
    "The interface to the high-level controller is implemented using the `B1HighLevelReal` class. On instantiation, the class uses the `unitree_legged_sdk` API calls to instantiate a UDP object to communicate with the Intel computer with IP `192.168.123.220` (the onboard Intel computer runs factory installed locomotion controller). "
   ]
  },
  {
   "cell_type": "code",
   "execution_count": 1,
   "metadata": {},
   "outputs": [
    {
     "name": "stdout",
     "output_type": "stream",
     "text": [
      "UDP Initialized. socketfd: 64   Port: 8080\n"
     ]
    }
   ],
   "source": [
    "from B1Py.interfaces import B1HighLevelReal\n",
    "import time\n",
    "robot = B1HighLevelReal()"
   ]
  },
  {
   "cell_type": "markdown",
   "metadata": {},
   "source": [
    "If the connection was a success and the robot is in walking mode, sending zero command to the robot will make it jog in place. The `B1HighLevelReal` keeps track of the latest call to the `setCommand` and stops the robot in case a 0.2 second deadline is passed."
   ]
  },
  {
   "cell_type": "code",
   "execution_count": 4,
   "metadata": {},
   "outputs": [],
   "source": [
    "for i in range(100):\n",
    "    time.sleep(0.01)\n",
    "    robot.setCommand(0.0,0,0.2)"
   ]
  },
  {
   "cell_type": "markdown",
   "metadata": {},
   "source": [
    "We can also read robot states such as IMU and joint measurements. For a detailed list of available states and corresponding functions, take a look at the API documentation. "
   ]
  },
  {
   "cell_type": "code",
   "execution_count": 5,
   "metadata": {},
   "outputs": [
    {
     "name": "stdout",
     "output_type": "stream",
     "text": [
      "IMU state is:\n",
      "([-0.2297435998916626, -0.025128206238150597, 10.338461875915527], [-0.004014971666038036, -0.0002767554542515427, 0.006696383468806744], [0.9990593194961548, -0.0017852087039500475, 0.008534259162843227, 0.04247831553220749], [-0.002842441201210022, 0.017204975709319115, 0.08496096730232239])\n",
      "Robot joint states are:\n",
      "None\n"
     ]
    }
   ],
   "source": [
    "print('IMU state is:')\n",
    "print(robot.getIMU())\n",
    "print('Robot joint states are:')\n",
    "print(robot.getJointStates())"
   ]
  },
  {
   "cell_type": "markdown",
   "metadata": {},
   "source": [
    "## Turning the Robot Off\n",
    "Finally, put the robot into sitting mode:\n",
    "- Press `L2+A` simultaneously to put the robot into force stance mode\n",
    "- Press `L2+A` simultaneously again to make the robot sit\n",
    "Then as done for turning the robot on, double press the power key with the second press holding for 4 seconds."
   ]
  }
 ],
 "metadata": {
  "kernelspec": {
   "display_name": "Python 3",
   "language": "python",
   "name": "python3"
  },
  "language_info": {
   "codemirror_mode": {
    "name": "ipython",
    "version": 3
   },
   "file_extension": ".py",
   "mimetype": "text/x-python",
   "name": "python",
   "nbconvert_exporter": "python",
   "pygments_lexer": "ipython3",
   "version": "3.8.15"
  }
 },
 "nbformat": 4,
 "nbformat_minor": 4
}
