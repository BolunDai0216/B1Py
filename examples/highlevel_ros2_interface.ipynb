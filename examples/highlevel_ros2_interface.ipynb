{
 "cells": [
  {
   "cell_type": "markdown",
   "metadata": {},
   "source": [
    "# Joystick Control\n",
    "As the first step after successfully communicating with the robot's onboard controller, we use a USB joystick (a Logitech Extreme 3D Pro) to command the robot with desired $x$, $y$, and $\\Psi$ velocities.\n",
    "\n",
    "First, use the Pygame-based joystick class provided with B1Py to connect to the joystick:"
   ]
  },
  {
   "cell_type": "code",
   "execution_count": 4,
   "metadata": {},
   "outputs": [
    {
     "name": "stdout",
     "output_type": "stream",
     "text": [
      "pygame 2.5.1 (SDL 2.28.2, Python 3.8.10)\n",
      "Hello from the pygame community. https://www.pygame.org/contribute.html\n",
      "Calibrating joystick, please do not touch the stick and wait...\n",
      "Put your stick at zero location and do not touch it\n",
      "Calibration finished.\n"
     ]
    }
   ],
   "source": [
    "from B1Py.joysticks import Logitech3DPro\n",
    "joy = Logitech3DPro(joy_id=0)"
   ]
  },
  {
   "cell_type": "markdown",
   "metadata": {},
   "source": [
    "***Note:*** Initially when you instantiate the joystick, the class performs an offset calibration to maker sure the neutral configuration of the device reads zero. It is important to leave the device untouched during the couple of seconds after calling the cell above. The prompts tells you when you can continue. \n",
    "\n",
    "Then as explained in [hardware interface documentation](unitree_locomotion_controller_interface.ipynb), instantiate and communication link to high-level controller on the robot. Note that the robot should be standing and ready to walk before we can control it. Furthermore, the the highlevel node in b1py_node ROS2 package (in `deploy/ros2_ws`) should be launched on the robot. "
   ]
  },
  {
   "cell_type": "code",
   "execution_count": 4,
   "metadata": {},
   "outputs": [
    {
     "name": "stdout",
     "output_type": "stream",
     "text": [
      "b1py_highlevel_subscriber ROS2 interface is running...\n"
     ]
    }
   ],
   "source": [
    "from B1Py.robot.interface.ros2 import B1HighLevelReal, ros2_init\n",
    "import time\n",
    "ros2_init()\n",
    "robot = B1HighLevelReal()"
   ]
  },
  {
   "cell_type": "markdown",
   "metadata": {},
   "source": [
    "Finally, read the joystick values and send them to the robot in a loop:"
   ]
  },
  {
   "cell_type": "code",
   "execution_count": 16,
   "metadata": {},
   "outputs": [],
   "source": [
    "Duration = 20\n",
    "N = Duration//0.01\n",
    "for i in range(500):\n",
    "    cmd = joy.readAnalog()\n",
    "    vx = cmd['x']\n",
    "    vy = cmd['y']\n",
    "    w = cmd['z'] / 2\n",
    "    body_height = cmd['aux'] / 10\n",
    "    robot.setCommands(vx,vy,w, bodyHeight=body_height)\n",
    "    time.sleep(0.01)"
   ]
  },
  {
   "cell_type": "code",
   "execution_count": 10,
   "metadata": {},
   "outputs": [],
   "source": [
    "Duration = 20\n",
    "N = Duration//0.01\n",
    "for i in range(500):\n",
    "    vx = 0\n",
    "    vy = 0\n",
    "    w = 0.1\n",
    "    # body_height = cmd['aux'] / 10\n",
    "    robot.setCommands(vx,vy,w, mode=2)\n",
    "    time.sleep(0.01)"
   ]
  },
  {
   "cell_type": "code",
   "execution_count": 7,
   "metadata": {},
   "outputs": [
    {
     "data": {
      "text/plain": [
       "(array([-0.5260374 ,  1.07419956, -2.68494129,  0.52926761,  1.06450891,\n",
       "        -2.67289853, -0.51926726,  1.06459737, -2.67004514,  0.52532941,\n",
       "         1.06061494, -2.67266726]),\n",
       " array([-3.31340962e-05,  2.14097254e-05,  5.23598974e-05,  7.88421676e-05,\n",
       "         7.93519139e-05, -5.55438673e-05,  4.19698590e-05, -2.30749269e-04,\n",
       "         8.68779316e-05, -2.15796448e-04,  4.41787961e-06, -1.08122422e-05]))"
      ]
     },
     "execution_count": 7,
     "metadata": {},
     "output_type": "execute_result"
    }
   ],
   "source": [
    "robot.getJointStates()"
   ]
  }
 ],
 "metadata": {
  "kernelspec": {
   "display_name": "Python 3",
   "language": "python",
   "name": "python3"
  },
  "language_info": {
   "codemirror_mode": {
    "name": "ipython",
    "version": 3
   },
   "file_extension": ".py",
   "mimetype": "text/x-python",
   "name": "python",
   "nbconvert_exporter": "python",
   "pygments_lexer": "ipython3",
   "version": "3.8.18"
  }
 },
 "nbformat": 4,
 "nbformat_minor": 4
}
