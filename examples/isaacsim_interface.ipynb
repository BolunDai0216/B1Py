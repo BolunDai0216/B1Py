{
 "cells": [
  {
   "cell_type": "code",
   "execution_count": null,
   "metadata": {},
   "outputs": [],
   "source": [
    "from B1Py.sim.interface import B1IsaacSim\n",
    "robot = B1IsaacSim(robot_id='b1')"
   ]
  },
  {
   "cell_type": "code",
   "execution_count": null,
   "metadata": {},
   "outputs": [],
   "source": [
    "from matplotlib.pyplot import imshow\n",
    "imshow(robot.readCameras()['test_camera_rgb'])"
   ]
  },
  {
   "cell_type": "code",
   "execution_count": 15,
   "metadata": {},
   "outputs": [],
   "source": [
    "import time\n",
    "import numpy as np\n",
    "\n",
    "for i in range(1000):\n",
    "    robot.sendCommands(\n",
    "        kp = np.ones(12)*100,\n",
    "        kd = np.ones(12)*2.5,\n",
    "        tau_ff=np.zeros(12),\n",
    "        q_des=np.random.randn(12)*0.5,\n",
    "        dq_des=np.zeros(12),\n",
    "    )\n",
    "    time.sleep(0.01)"
   ]
  }
 ],
 "metadata": {
  "kernelspec": {
   "display_name": "walk_these_ways",
   "language": "python",
   "name": "python3"
  },
  "language_info": {
   "codemirror_mode": {
    "name": "ipython",
    "version": 3
   },
   "file_extension": ".py",
   "mimetype": "text/x-python",
   "name": "python",
   "nbconvert_exporter": "python",
   "pygments_lexer": "ipython3",
   "version": "3.8.18"
  }
 },
 "nbformat": 4,
 "nbformat_minor": 2
}
