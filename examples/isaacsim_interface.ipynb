{
 "cells": [
  {
   "cell_type": "code",
   "execution_count": 2,
   "metadata": {},
   "outputs": [
    {
     "name": "stdout",
     "output_type": "stream",
     "text": [
      "test_camera_distance_to_camera\n"
     ]
    }
   ],
   "source": [
    "from B1Py.sim.interface import B1IsaacSim\n",
    "robot = B1IsaacSim(robot_id='b1')"
   ]
  },
  {
   "cell_type": "code",
   "execution_count": 4,
   "metadata": {},
   "outputs": [
    {
     "data": {
      "text/plain": [
       "<matplotlib.image.AxesImage at 0x7f37fc5b3af0>"
      ]
     },
     "execution_count": 4,
     "metadata": {},
     "output_type": "execute_result"
    },
    {
     "data": {
      "image/png": "[encoded data removed]",
      "text/plain": [
       "<Figure size 640x480 with 1 Axes>"
      ]
     },
     "metadata": {},
     "output_type": "display_data"
    }
   ],
   "source": [
    "from matplotlib.pyplot import imshow\n",
    "imshow(robot.readCameras()['test_camera_distance_to_camera'])"
   ]
  },
  {
   "cell_type": "code",
   "execution_count": 5,
   "metadata": {},
   "outputs": [
    {
     "ename": "ModuleNotFoundError",
     "evalue": "No module named 'B1Py.controllers'",
     "output_type": "error",
     "traceback": [
      "\u001b[0;31m---------------------------------------------------------------------------\u001b[0m",
      "\u001b[0;31mModuleNotFoundError\u001b[0m                       Traceback (most recent call last)",
      "\u001b[1;32m/home/mocap/locomotion/b1py_ws/src/B1Py/examples/isaacsim_simple_example.ipynb Cell 3\u001b[0m line \u001b[0;36m3\n\u001b[1;32m      <a href='vscode-notebook-cell:/home/mocap/locomotion/b1py_ws/src/B1Py/examples/isaacsim_simple_example.ipynb#W5sZmlsZQ%3D%3D?line=0'>1</a>\u001b[0m \u001b[39mimport\u001b[39;00m \u001b[39mpypose\u001b[39;00m \u001b[39mas\u001b[39;00m \u001b[39mpp\u001b[39;00m\n\u001b[0;32m----> <a href='vscode-notebook-cell:/home/mocap/locomotion/b1py_ws/src/B1Py/examples/isaacsim_simple_example.ipynb#W5sZmlsZQ%3D%3D?line=2'>3</a>\u001b[0m \u001b[39mfrom\u001b[39;00m \u001b[39mB1Py\u001b[39;00m\u001b[39m.\u001b[39;00m\u001b[39mcontrollers\u001b[39;00m\u001b[39m.\u001b[39;00m\u001b[39mRL\u001b[39;00m\u001b[39m.\u001b[39;00m\u001b[39mwalk_these_ways\u001b[39;00m\u001b[39m.\u001b[39;00m\u001b[39mwalk_these_ways\u001b[39;00m \u001b[39mimport\u001b[39;00m (\n\u001b[1;32m      <a href='vscode-notebook-cell:/home/mocap/locomotion/b1py_ws/src/B1Py/examples/isaacsim_simple_example.ipynb#W5sZmlsZQ%3D%3D?line=3'>4</a>\u001b[0m     CommandInterface,\n\u001b[1;32m      <a href='vscode-notebook-cell:/home/mocap/locomotion/b1py_ws/src/B1Py/examples/isaacsim_simple_example.ipynb#W5sZmlsZQ%3D%3D?line=4'>5</a>\u001b[0m     HistoryWrapper,\n\u001b[1;32m      <a href='vscode-notebook-cell:/home/mocap/locomotion/b1py_ws/src/B1Py/examples/isaacsim_simple_example.ipynb#W5sZmlsZQ%3D%3D?line=5'>6</a>\u001b[0m     IsaacSimAgent,\n\u001b[1;32m      <a href='vscode-notebook-cell:/home/mocap/locomotion/b1py_ws/src/B1Py/examples/isaacsim_simple_example.ipynb#W5sZmlsZQ%3D%3D?line=6'>7</a>\u001b[0m     Policy,\n\u001b[1;32m      <a href='vscode-notebook-cell:/home/mocap/locomotion/b1py_ws/src/B1Py/examples/isaacsim_simple_example.ipynb#W5sZmlsZQ%3D%3D?line=7'>8</a>\u001b[0m     loadParameters,\n\u001b[1;32m      <a href='vscode-notebook-cell:/home/mocap/locomotion/b1py_ws/src/B1Py/examples/isaacsim_simple_example.ipynb#W5sZmlsZQ%3D%3D?line=8'>9</a>\u001b[0m )\n\u001b[1;32m     <a href='vscode-notebook-cell:/home/mocap/locomotion/b1py_ws/src/B1Py/examples/isaacsim_simple_example.ipynb#W5sZmlsZQ%3D%3D?line=10'>11</a>\u001b[0m checkpoint_path \u001b[39m=\u001b[39m \u001b[39m\"\u001b[39m\u001b[39mcheckpoints/B1\u001b[39m\u001b[39m\"\u001b[39m\n\u001b[1;32m     <a href='vscode-notebook-cell:/home/mocap/locomotion/b1py_ws/src/B1Py/examples/isaacsim_simple_example.ipynb#W5sZmlsZQ%3D%3D?line=12'>13</a>\u001b[0m cfg \u001b[39m=\u001b[39m loadParameters(checkpoint_path)\n",
      "\u001b[0;31mModuleNotFoundError\u001b[0m: No module named 'B1Py.controllers'"
     ]
    }
   ],
   "source": [
    "import pypose as pp\n",
    "\n",
    "from B1Py.controllers.RL.walk_these_ways.walk_these_ways import (\n",
    "    CommandInterface,\n",
    "    HistoryWrapper,\n",
    "    IsaacSimAgent,\n",
    "    Policy,\n",
    "    loadParameters,\n",
    ")\n",
    "\n",
    "checkpoint_path = \"checkpoints/B1\"\n",
    "cfg = loadParameters(checkpoint_path)\n",
    "policy = Policy(checkpoint_path)\n",
    "command_profile = CommandInterface()\n",
    "\n",
    "isaacsim_agent = IsaacSimAgent(cfg, command_profile)\n",
    "isaacsim_agent = HistoryWrapper(isaacsim_agent)\n",
    "control_dt = cfg[\"control\"][\"decimation\"] * cfg[\"sim\"][\"dt\"]\n",
    "simulation_dt = 1 / 100\n",
    "obs = isaacsim_agent.reset()\n"
   ]
  },
  {
   "cell_type": "code",
   "execution_count": null,
   "metadata": {},
   "outputs": [],
   "source": [
    "import time\n",
    "while True:\n",
    "    data = lidar_data_pipe.read()[:,7,:]\n",
    "    update_visualization(data)\n",
    "    plt.pause(0.1)"
   ]
  },
  {
   "cell_type": "code",
   "execution_count": null,
   "metadata": {},
   "outputs": [],
   "source": []
  }
 ],
 "metadata": {
  "kernelspec": {
   "display_name": "walk_these_ways",
   "language": "python",
   "name": "python3"
  },
  "language_info": {
   "codemirror_mode": {
    "name": "ipython",
    "version": 3
   },
   "file_extension": ".py",
   "mimetype": "text/x-python",
   "name": "python",
   "nbconvert_exporter": "python",
   "pygments_lexer": "ipython3",
   "version": "3.8.18"
  }
 },
 "nbformat": 4,
 "nbformat_minor": 2
}
