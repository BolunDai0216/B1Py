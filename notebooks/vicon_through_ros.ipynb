{
 "cells": [
  {
   "cell_type": "markdown",
   "metadata": {},
   "source": [
    "# Vicon Communication Through ROS\n",
    "This example aims to read the pose of objects published by the Vicon tracking system. Here we rely on the [vicon_bridge](http://wiki.ros.org/vicon_bridge) ROS node to communicate with the Tracker software and publish the poses of the tracked objects as TF broadcasts. Before following through this tutorial, maker sure that the following network structure is established and the `vicon_bridge` is properly configured and started. To learn more about this, you can refer to [this]() internal documentation.\n",
    "\n",
    "Add an image here."
   ]
  },
  {
   "cell_type": "markdown",
   "metadata": {},
   "source": [
    "## Establish The Interface to Vicon\n",
    "\n",
    "Here we use the `ROSTFListener` Python class provided as part of B1Py to get the transformation matrix between any set of frames published as ROS TF messages. The class has an internal thread that constantly queries for new frames at a desired frequency and updates an internal $4\\times4$ homogeneous transformation matrix that may be accessed at will.\n",
    "\n",
    "First, use some utility functions to add ROS to the Python path (`addROSPath`) and register the current python process as a ROS node using the `initRosNode` function."
   ]
  },
  {
   "cell_type": "code",
   "execution_count": null,
   "metadata": {},
   "outputs": [
    {
     "name": "stderr",
     "output_type": "stream",
     "text": [
      "WARNING: cannot load logging configuration file, logging is disabled\n"
     ]
    },
    {
     "name": "stdout",
     "output_type": "stream",
     "text": [
      "Unable to register with master node [http://localhost:11311/]: master may not be running yet. Will keep trying.\n"
     ]
    }
   ],
   "source": [
    "from B1Py.utils import addROS2Path\n",
    "# Add ROS to the ptyhon path. \n",
    "addROS2Path('/opt/ros/noetic') \n",
    "from B1Py.ros_bridges import initRosNode, ROSTFListener\n",
    "# Initialize the ROS node for the current python process\n",
    "initRosNode('b1py_node')"
   ]
  },
  {
   "cell_type": "markdown",
   "metadata": {},
   "source": [
    "This tutorial assumes that the object of interest is called 'test_object1' so the following instantiation of the `ROSTFListener` class maintains the pose of the `vicon/test_object1` with respect to the `vicon/world` frame:"
   ]
  },
  {
   "cell_type": "code",
   "execution_count": null,
   "metadata": {},
   "outputs": [],
   "source": [
    "# Create a TF listener object that listens to the transform of robot vicon mareker with respect to the world world_T_marker\n",
    "robot_body_tf = ROSTFListener('vicon/world', 'vicon/b1_body_whole_1/b1_body_whole_1')"
   ]
  },
  {
   "cell_type": "code",
   "execution_count": 4,
   "metadata": {},
   "outputs": [
    {
     "data": {
      "text/plain": [
       "array([[ 0.99305802, -0.11701313,  0.01198734,  0.05164038],\n",
       "       [ 0.11732368,  0.99264891, -0.02972015,  0.69296006],\n",
       "       [-0.00842157,  0.03092023,  0.99948638,  0.78387855],\n",
       "       [ 0.        ,  0.        ,  0.        ,  1.        ]])"
      ]
     },
     "execution_count": 4,
     "metadata": {},
     "output_type": "execute_result"
    }
   ],
   "source": [
    "robot_body_tf.T"
   ]
  }
 ],
 "metadata": {
  "kernelspec": {
   "display_name": "pyenv38",
   "language": "python",
   "name": "pyenv38"
  },
  "language_info": {
   "codemirror_mode": {
    "name": "ipython",
    "version": 3
   },
   "file_extension": ".py",
   "mimetype": "text/x-python",
   "name": "python",
   "nbconvert_exporter": "python",
   "pygments_lexer": "ipython3",
   "version": "3.8.15"
  }
 },
 "nbformat": 4,
 "nbformat_minor": 4
}
