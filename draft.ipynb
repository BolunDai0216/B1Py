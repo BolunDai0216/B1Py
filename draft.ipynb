{
 "cells": [
  {
   "cell_type": "code",
   "execution_count": null,
   "metadata": {},
   "outputs": [],
   "source": [
    "from B1Py.interfaces import B1HighLevelReal\n",
    "import time\n",
    "robot = B1HighLevelReal()"
   ]
  },
  {
   "cell_type": "code",
   "execution_count": null,
   "metadata": {},
   "outputs": [],
   "source": [
    "for i in range(400):\n",
    "    time.sleep(0.01)\n",
    "    robot.setCommand(0.0,0,0)"
   ]
  },
  {
   "cell_type": "code",
   "execution_count": null,
   "metadata": {},
   "outputs": [],
   "source": [
    "from B1Py.utils import addROS2Path\n",
    "addROS2Path('/opt/ros/noetic')\n",
    "from B1Py.ros_bridges import initRosNode, ROSTFListener\n",
    "initRosNode('b1py_node')"
   ]
  },
  {
   "cell_type": "code",
   "execution_count": null,
   "metadata": {},
   "outputs": [],
   "source": [
    "robot_body_tf = ROSTFListener('vicon/world', 'vicon/b1_body_whole_1/b1_body_whole_1')"
   ]
  },
  {
   "cell_type": "code",
   "execution_count": null,
   "metadata": {},
   "outputs": [],
   "source": [
    "robot_body_tf.T"
   ]
  },
  {
   "cell_type": "code",
   "execution_count": null,
   "metadata": {},
   "outputs": [],
   "source": [
    "from B1Py.calibration import parseVico2GtParams\n",
    "import numpy as np"
   ]
  },
  {
   "cell_type": "code",
   "execution_count": null,
   "metadata": {},
   "outputs": [],
   "source": [
    "body_T_marker = parseVico2GtParams('notebooks/sample_params/vicon2gt/unitree_imu.txt')"
   ]
  },
  {
   "cell_type": "code",
   "execution_count": null,
   "metadata": {},
   "outputs": [],
   "source": [
    "world_T_marker = robot_body_tf.T\n",
    "T = world_T_marker @ np.linalg.inv(body_T_marker)\n",
    "T[0:3, 0:3]"
   ]
  },
  {
   "cell_type": "code",
   "execution_count": null,
   "metadata": {},
   "outputs": [],
   "source": [
    "from B1Py.ros_bridges import ROSTFPublisher"
   ]
  },
  {
   "cell_type": "code",
   "execution_count": null,
   "metadata": {},
   "outputs": [],
   "source": [
    "tf_pub = ROSTFPublisher('vicon/world', 'vicon/dog')"
   ]
  },
  {
   "cell_type": "code",
   "execution_count": null,
   "metadata": {},
   "outputs": [],
   "source": [
    "import time\n",
    "while True:\n",
    "    world_T_marker = robot_body_tf.T\n",
    "    T = world_T_marker @ np.linalg.inv(body_T_marker)\n",
    "    tf_pub.publish(T)\n",
    "    time.sleep(0.01)"
   ]
  },
  {
   "cell_type": "code",
   "execution_count": null,
   "metadata": {},
   "outputs": [],
   "source": [
    "T"
   ]
  },
  {
   "cell_type": "code",
   "execution_count": null,
   "metadata": {},
   "outputs": [],
   "source": [
    "from B1Py.joysticks import PyGameJoyManager\n",
    "joy = PyGameJoyManager()"
   ]
  },
  {
   "cell_type": "code",
   "execution_count": 3,
   "metadata": {},
   "outputs": [],
   "source": [
    "from B1Py.joysticks import PyGameJoyManager\n",
    "import time\n",
    "class Logitech3DPro():\n",
    "    def __init__(self, joy_id=0):\n",
    "        self.joymanager = PyGameJoyManager()\n",
    "        self.joymanager.start_daq(joy_id)\n",
    "        print('Calibrating joystick, please do not touch the stick and wait...')\n",
    "        time.sleep(2)\n",
    "        self.joymanager.offset_calibration()\n",
    "        print('Calibration finished.')\n",
    "        self.joy_id = joy_id\n",
    "    \n",
    "    def decode(self):\n",
    "        self.analog_raw, self.digital_raw = \\\n",
    "            self.joymanager.read_values()\n",
    "\n",
    "    def readAnalog(self):\n",
    "        self.decode()\n",
    "        data = {'x':self.analog_raw[0],\n",
    "                'y':self.analog_raw[1],\n",
    "                'z':self.analog_raw[2],\n",
    "                'aux':self.analog_raw[3]}\n",
    "        return data\n",
    "    \n",
    "    def readDigital(self):\n",
    "        self.decode()\n",
    "        data = {'shoot':self.digital_raw[0],\n",
    "                '2':self.digital_raw[1],\n",
    "                '3':self.digital_raw[2],\n",
    "                '4':self.digital_raw[3],\n",
    "                '5':self.digital_raw[4],\n",
    "                '6':self.digital_raw[5],\n",
    "                '7':self.digital_raw[6],\n",
    "                '8':self.digital_raw[7],\n",
    "                '9':self.digital_raw[8],\n",
    "                '10':self.digital_raw[9],\n",
    "                '11':self.digital_raw[10],\n",
    "                '12':self.digital_raw[11]}\n",
    "        return data\n",
    "        \n",
    "        "
   ]
  },
  {
   "cell_type": "code",
   "execution_count": 4,
   "metadata": {},
   "outputs": [
    {
     "name": "stdout",
     "output_type": "stream",
     "text": [
      "Calibrating joystick, please do not touch the stick and wait...\n"
     ]
    },
    {
     "ename": "NameError",
     "evalue": "name 'time' is not defined",
     "output_type": "error",
     "traceback": [
      "\u001b[0;31m---------------------------------------------------------------------------\u001b[0m",
      "\u001b[0;31mNameError\u001b[0m                                 Traceback (most recent call last)",
      "Cell \u001b[0;32mIn[4], line 1\u001b[0m\n\u001b[0;32m----> 1\u001b[0m joy \u001b[39m=\u001b[39m Logitech3DPro(joy_id\u001b[39m=\u001b[39;49m\u001b[39m0\u001b[39;49m)\n",
      "Cell \u001b[0;32mIn[3], line 8\u001b[0m, in \u001b[0;36mLogitech3DPro.__init__\u001b[0;34m(self, joy_id)\u001b[0m\n\u001b[1;32m      6\u001b[0m \u001b[39mself\u001b[39m\u001b[39m.\u001b[39mjoymanager\u001b[39m.\u001b[39mstart_daq(joy_id)\n\u001b[1;32m      7\u001b[0m \u001b[39mprint\u001b[39m(\u001b[39m'\u001b[39m\u001b[39mCalibrating joystick, please do not touch the stick and wait...\u001b[39m\u001b[39m'\u001b[39m)\n\u001b[0;32m----> 8\u001b[0m time\u001b[39m.\u001b[39msleep(\u001b[39m2\u001b[39m)\n\u001b[1;32m      9\u001b[0m \u001b[39mself\u001b[39m\u001b[39m.\u001b[39mjoymanager\u001b[39m.\u001b[39moffset_calibration()\n\u001b[1;32m     10\u001b[0m \u001b[39mprint\u001b[39m(\u001b[39m'\u001b[39m\u001b[39mCalibration finished.\u001b[39m\u001b[39m'\u001b[39m)\n",
      "\u001b[0;31mNameError\u001b[0m: name 'time' is not defined"
     ]
    }
   ],
   "source": [
    "joy = Logitech3DPro(joy_id=0)"
   ]
  },
  {
   "cell_type": "code",
   "execution_count": null,
   "metadata": {},
   "outputs": [],
   "source": [
    "import time\n",
    "while True:\n",
    "    time.sleep(0.01)\n",
    "    print(joy.readAnalog())"
   ]
  },
  {
   "cell_type": "code",
   "execution_count": null,
   "metadata": {},
   "outputs": [],
   "source": []
  }
 ],
 "metadata": {
  "kernelspec": {
   "display_name": "Python 3",
   "language": "python",
   "name": "python3"
  },
  "language_info": {
   "codemirror_mode": {
    "name": "ipython",
    "version": 3
   },
   "file_extension": ".py",
   "mimetype": "text/x-python",
   "name": "python",
   "nbconvert_exporter": "python",
   "pygments_lexer": "ipython3",
   "version": "3.8.15"
  },
  "orig_nbformat": 4
 },
 "nbformat": 4,
 "nbformat_minor": 2
}
