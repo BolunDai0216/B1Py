{
 "cells": [
  {
   "cell_type": "code",
   "execution_count": null,
   "metadata": {},
   "outputs": [],
   "source": [
    "from B1Py.interfaces import B1HighLevelReal\n",
    "import time\n",
    "robot = B1HighLevelReal()"
   ]
  },
  {
   "cell_type": "code",
   "execution_count": null,
   "metadata": {},
   "outputs": [],
   "source": [
    "for i in range(100):\n",
    "    time.sleep(0.01)\n",
    "    robot.setCommand(0.0,0,0)"
   ]
  },
  {
   "cell_type": "code",
   "execution_count": null,
   "metadata": {},
   "outputs": [],
   "source": [
    "import B1Py\n",
    "import robot_interface as sdk\n",
    "import time\n",
    "HIGHLEVEL = 0xee\n",
    "LOWLEVEL  = 0xff\n",
    "udp = sdk.UDP(HIGHLEVEL, 8080, \"192.168.123.220\", 8082)\n",
    "\n",
    "cmd = sdk.HighCmd()\n",
    "state = sdk.HighState()\n",
    "udp.InitCmdData(cmd)\n"
   ]
  },
  {
   "cell_type": "code",
   "execution_count": null,
   "metadata": {},
   "outputs": [],
   "source": [
    "for i in range(10000):\n",
    "    time.sleep(0.002)\n",
    "    udp.Recv()\n",
    "    udp.GetRecv(state)\n",
    "\n",
    "    cmd.mode = 0      # 0:idle, default stand      1:forced stand     2:walk continuously\n",
    "    cmd.gaitType = 0\n",
    "    cmd.speedLevel = 0\n",
    "    cmd.bodyHeight = -0.0\n",
    "    cmd.euler = [0, 0, 0]\n",
    "    cmd.velocity = [0, 0]\n",
    "    cmd.yawSpeed = 0.0\n",
    "    cmd.reserve = 0\n",
    "    cmd.footRaiseHeight = 0.0\n",
    "\n",
    "    udp.SetSend(cmd)\n",
    "    udp.Send()\n",
    "    print(state.mode)\n",
    "    # cmd.mode = 2\n",
    "    # cmd.velocity = [0.0, -0.3, 0]\n",
    "    # cmd.yawSpeed = -0.2"
   ]
  }
 ],
 "metadata": {
  "kernelspec": {
   "display_name": "Python 3",
   "language": "python",
   "name": "python3"
  },
  "language_info": {
   "codemirror_mode": {
    "name": "ipython",
    "version": 3
   },
   "file_extension": ".py",
   "mimetype": "text/x-python",
   "name": "python",
   "nbconvert_exporter": "python",
   "pygments_lexer": "ipython3",
   "version": "3.8.10"
  },
  "orig_nbformat": 4
 },
 "nbformat": 4,
 "nbformat_minor": 2
}
