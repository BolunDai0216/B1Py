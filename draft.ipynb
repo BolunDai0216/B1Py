{
 "cells": [
  {
   "cell_type": "code",
   "execution_count": null,
   "metadata": {},
   "outputs": [],
   "source": [
    "from B1Py.interfaces import B1HighLevelReal\n",
    "import time\n",
    "robot = B1HighLevelReal()"
   ]
  },
  {
   "cell_type": "code",
   "execution_count": null,
   "metadata": {},
   "outputs": [],
   "source": [
    "for i in range(400):\n",
    "    time.sleep(0.01)\n",
    "    robot.setCommand(0.0,0,0)"
   ]
  },
  {
   "cell_type": "code",
   "execution_count": 1,
   "metadata": {},
   "outputs": [
    {
     "ename": "ModuleNotFoundError",
     "evalue": "No module named 'B1Py.utils'",
     "output_type": "error",
     "traceback": [
      "\u001b[0;31m---------------------------------------------------------------------------\u001b[0m",
      "\u001b[0;31mModuleNotFoundError\u001b[0m                       Traceback (most recent call last)",
      "Cell \u001b[0;32mIn[1], line 1\u001b[0m\n\u001b[0;32m----> 1\u001b[0m \u001b[39mfrom\u001b[39;00m \u001b[39mB1Py\u001b[39;00m\u001b[39m.\u001b[39;00m\u001b[39mutils\u001b[39;00m \u001b[39mimport\u001b[39;00m addROS2Path\n\u001b[1;32m      2\u001b[0m addROS2Path(\u001b[39m'\u001b[39m\u001b[39m/opt/ros/noetic\u001b[39m\u001b[39m'\u001b[39m)\n\u001b[1;32m      3\u001b[0m \u001b[39mfrom\u001b[39;00m \u001b[39mB1Py\u001b[39;00m\u001b[39m.\u001b[39;00m\u001b[39mros_bridges\u001b[39;00m \u001b[39mimport\u001b[39;00m initRosNode, ROSTFListener\n",
      "\u001b[0;31mModuleNotFoundError\u001b[0m: No module named 'B1Py.utils'"
     ]
    }
   ],
   "source": [
    "from B1Py.utils import addROS2Path\n",
    "addROS2Path('/opt/ros/noetic')\n",
    "from B1Py.ros_bridges import initRosNode, ROSTFListener\n",
    "initRosNode('b1py_node')"
   ]
  },
  {
   "cell_type": "code",
   "execution_count": 4,
   "metadata": {},
   "outputs": [],
   "source": [
    "robot_body_tf = ROSTFListener('vicon/world', 'vicon/b1_body_whole_1/b1_body_whole_1')"
   ]
  },
  {
   "cell_type": "code",
   "execution_count": 33,
   "metadata": {},
   "outputs": [
    {
     "data": {
      "text/plain": [
       "array([[ 0.99748603, -0.06807085,  0.01969731, -0.0370654 ],\n",
       "       [ 0.06865648,  0.99716595, -0.03076301,  0.99826324],\n",
       "       [-0.01754743,  0.03203802,  0.9993326 ,  0.31092613],\n",
       "       [ 0.        ,  0.        ,  0.        ,  1.        ]])"
      ]
     },
     "execution_count": 33,
     "metadata": {},
     "output_type": "execute_result"
    }
   ],
   "source": [
    "robot_body_tf.T"
   ]
  },
  {
   "cell_type": "code",
   "execution_count": null,
   "metadata": {},
   "outputs": [],
   "source": []
  }
 ],
 "metadata": {
  "kernelspec": {
   "display_name": "Python 3",
   "language": "python",
   "name": "python3"
  },
  "language_info": {
   "codemirror_mode": {
    "name": "ipython",
    "version": 3
   },
   "file_extension": ".py",
   "mimetype": "text/x-python",
   "name": "python",
   "nbconvert_exporter": "python",
   "pygments_lexer": "ipython3",
   "version": "3.8.15"
  },
  "orig_nbformat": 4
 },
 "nbformat": 4,
 "nbformat_minor": 2
}
